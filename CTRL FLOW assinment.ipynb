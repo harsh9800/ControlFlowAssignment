{
 "cells": [
  {
   "cell_type": "code",
   "execution_count": 1,
   "id": "284a444e-db9f-4b97-a257-f68a65a43973",
   "metadata": {},
   "outputs": [],
   "source": [
    "#1. Write a Python program to check if a given number is positive or negative."
   ]
  },
  {
   "cell_type": "code",
   "execution_count": 8,
   "id": "092a78aa-a65f-4eb2-a39c-4f75c888661c",
   "metadata": {},
   "outputs": [
    {
     "name": "stdin",
     "output_type": "stream",
     "text": [
      "Write a no: -2\n"
     ]
    },
    {
     "name": "stdout",
     "output_type": "stream",
     "text": [
      "No is negative\n"
     ]
    }
   ],
   "source": [
    "x=int(input(\"Write a no:\"))\n",
    "if x>0:\n",
    "    print(\"No is positive\")\n",
    "elif x<0:\n",
    "    print(\"No is negative\")\n",
    "else:\n",
    "    print(\"0 is neither positive nor negative\")"
   ]
  },
  {
   "cell_type": "code",
   "execution_count": 9,
   "id": "f8c80384-fc57-402f-80f2-256ae79a0fca",
   "metadata": {},
   "outputs": [],
   "source": [
    "#2. Create a program that determines if a person is eligible to vote based on their age."
   ]
  },
  {
   "cell_type": "code",
   "execution_count": 12,
   "id": "246cdc9f-eec7-445d-b663-a5a68c5d9c48",
   "metadata": {},
   "outputs": [
    {
     "name": "stdin",
     "output_type": "stream",
     "text": [
      "Enter your age 15\n"
     ]
    },
    {
     "name": "stdout",
     "output_type": "stream",
     "text": [
      "You are not eligible to vote\n"
     ]
    }
   ],
   "source": [
    "age=int(input(\"Enter your age\"))\n",
    "if age>=18:\n",
    "    print(\"You are eligible to vote\")\n",
    "else:\n",
    "    print(\"You are not eligible to vote\")"
   ]
  },
  {
   "cell_type": "code",
   "execution_count": 13,
   "id": "a4de9bdc-4e44-4806-a85e-6df1db3b1d3e",
   "metadata": {},
   "outputs": [],
   "source": [
    "#3. Develop a program to find the maximum of two numbers using if-else statements."
   ]
  },
  {
   "cell_type": "code",
   "execution_count": 16,
   "id": "75ce1ae2-35c6-44e0-b862-fd86a5386a48",
   "metadata": {},
   "outputs": [
    {
     "name": "stdin",
     "output_type": "stream",
     "text": [
      "Enter a: 6\n",
      "Enter b: 7\n"
     ]
    },
    {
     "name": "stdout",
     "output_type": "stream",
     "text": [
      "b is max\n"
     ]
    }
   ],
   "source": [
    "a=int(input(\"Enter a:\"))\n",
    "b=int(input(\"Enter b:\"))\n",
    "if a>b:\n",
    "    print(\"a is max\")\n",
    "elif a<b:\n",
    "    print(\"b is max\")\n",
    "else:\n",
    "    print(\"a and b are equal\")"
   ]
  },
  {
   "cell_type": "code",
   "execution_count": 17,
   "id": "6fa6e0e6-261d-4a9d-bfac-55297335656b",
   "metadata": {},
   "outputs": [],
   "source": [
    "#4. Write a Python script to classify a given year as a leap year or not."
   ]
  },
  {
   "cell_type": "code",
   "execution_count": 19,
   "id": "6000316e-8ae9-406e-be55-99165eae883f",
   "metadata": {},
   "outputs": [
    {
     "name": "stdin",
     "output_type": "stream",
     "text": [
      "Enter year: 2023\n"
     ]
    },
    {
     "name": "stdout",
     "output_type": "stream",
     "text": [
      "2023 is not a leap year\n"
     ]
    }
   ],
   "source": [
    "year=int(input(\"Enter year:\"))\n",
    "if year%4==0:\n",
    "    print(year,\"is a leap year\")\n",
    "else:\n",
    "    print(year,\"is not a leap year\")"
   ]
  },
  {
   "cell_type": "code",
   "execution_count": 20,
   "id": "00517d87-73ba-4488-aaca-4c1219884531",
   "metadata": {},
   "outputs": [],
   "source": [
    "#5. Create a program that checks whether a character is a vowel or a consonant."
   ]
  },
  {
   "cell_type": "code",
   "execution_count": 32,
   "id": "7feecf4d-b581-4ddc-90f4-5683c4cca80c",
   "metadata": {},
   "outputs": [
    {
     "name": "stdin",
     "output_type": "stream",
     "text": [
      "Enter character: A\n"
     ]
    },
    {
     "name": "stdout",
     "output_type": "stream",
     "text": [
      "It is vowel\n"
     ]
    }
   ],
   "source": [
    "vowel=[\"a\",\"e\",\"i\",\"o\",\"u\"]\n",
    "x=input(\"Enter character:\").lower()\n",
    "if x in vowel:\n",
    "    print(\"It is vowel\")\n",
    "else:\n",
    "    print(\"It is consonant\")"
   ]
  },
  {
   "cell_type": "code",
   "execution_count": 33,
   "id": "cee24682-de60-4acf-8b8d-f1d686a3e3e4",
   "metadata": {},
   "outputs": [],
   "source": [
    "#6. Implement a program to determine whether a given number is even or odd."
   ]
  },
  {
   "cell_type": "code",
   "execution_count": 36,
   "id": "0ba9bd13-a5fe-4a1c-bdc3-b32eadbff204",
   "metadata": {},
   "outputs": [
    {
     "name": "stdin",
     "output_type": "stream",
     "text": [
      "Enter a no: 5\n"
     ]
    },
    {
     "name": "stdout",
     "output_type": "stream",
     "text": [
      "Odd\n"
     ]
    }
   ],
   "source": [
    "x=int(input(\"Enter a no:\"))\n",
    "if x%2==0:\n",
    "    print(\"Even\")\n",
    "else:\n",
    "    print(\"Odd\")"
   ]
  },
  {
   "cell_type": "code",
   "execution_count": 35,
   "id": "0b52dd34-3cf9-4564-9405-e3c65a251cc2",
   "metadata": {},
   "outputs": [],
   "source": [
    "#7. Write a Python function to calculate the absolute value of a number without using the `abs()` function."
   ]
  },
  {
   "cell_type": "code",
   "execution_count": 43,
   "id": "4df295d4-fede-4182-a577-b23309245ca9",
   "metadata": {},
   "outputs": [
    {
     "name": "stdin",
     "output_type": "stream",
     "text": [
      "Enter x: -6\n"
     ]
    },
    {
     "name": "stdout",
     "output_type": "stream",
     "text": [
      "abs value of x: 6\n"
     ]
    }
   ],
   "source": [
    "x=int(input(\"Enter x:\"))\n",
    "if x>=0:\n",
    "    print(\"abs value of x:\",x)\n",
    "else:\n",
    "    print(\"abs value of x:\",-x)"
   ]
  },
  {
   "cell_type": "code",
   "execution_count": 44,
   "id": "d2cb6e4d-91bc-4b5d-bb48-0f72b94a4602",
   "metadata": {},
   "outputs": [],
   "source": [
    "#8. Develop a program that determines the largest of three given numbers using if-else statements."
   ]
  },
  {
   "cell_type": "code",
   "execution_count": 67,
   "id": "3131e913-0220-40aa-953c-a20d84d05c7b",
   "metadata": {},
   "outputs": [
    {
     "name": "stdin",
     "output_type": "stream",
     "text": [
      "Enter a: 2\n",
      "Enter b: 4\n",
      "Enter c: 3\n"
     ]
    },
    {
     "name": "stdout",
     "output_type": "stream",
     "text": [
      "4 is largest\n"
     ]
    }
   ],
   "source": [
    "a=int(input(\"Enter a:\"))\n",
    "b=int(input(\"Enter b:\"))\n",
    "c=int(input(\"Enter c:\"))\n",
    "if a>b and a>c:\n",
    "    print(a,\"is largest\")\n",
    "elif b>a and b>c:\n",
    "    print(b,\"is largest\")\n",
    "elif a==b and b==c:\n",
    "    print(\"All are equal\")\n",
    "else:\n",
    "    print(c,\"is largest\")"
   ]
  },
  {
   "cell_type": "code",
   "execution_count": 68,
   "id": "8176f4f0-1a4d-4de5-8c14-581725c689d3",
   "metadata": {},
   "outputs": [],
   "source": [
    "#9. Create a program that checks if a given string is a palindrome."
   ]
  },
  {
   "cell_type": "code",
   "execution_count": 71,
   "id": "62ed7304-17a8-4e07-a6c6-42039917376b",
   "metadata": {},
   "outputs": [
    {
     "name": "stdin",
     "output_type": "stream",
     "text": [
      "Enter a string LEVEL\n"
     ]
    },
    {
     "name": "stdout",
     "output_type": "stream",
     "text": [
      "String is palindrome\n"
     ]
    }
   ],
   "source": [
    "string=input(\"Enter a string\")\n",
    "if string[::]==string[::-1]:\n",
    "    print(\"String is palindrome\")\n",
    "else:\n",
    "    print(\"String is not palindrome\")"
   ]
  },
  {
   "cell_type": "code",
   "execution_count": 72,
   "id": "8363321b-bf5a-4b79-bbcf-6607aaf3484e",
   "metadata": {},
   "outputs": [],
   "source": [
    "#10. Write a Python program to calculate the grade based on a student's score."
   ]
  },
  {
   "cell_type": "code",
   "execution_count": 13,
   "id": "f0641f1c-088c-4f19-a267-807a00302a07",
   "metadata": {},
   "outputs": [
    {
     "name": "stdin",
     "output_type": "stream",
     "text": [
      "Enter your marks: 94\n"
     ]
    },
    {
     "name": "stdout",
     "output_type": "stream",
     "text": [
      "A+\n"
     ]
    }
   ],
   "source": [
    "x=int(input(\"Enter your marks:\"))\n",
    "if 90<=x<=100:\n",
    "    print(\"A+\")\n",
    "elif 70<=x<=90:\n",
    "    print(\"A\")\n",
    "elif 50<=x<=70:\n",
    "    print(\"B\")\n",
    "elif 30<=x<=50:\n",
    "    print(\"C\")\n",
    "else:\n",
    "    print(\"F\")"
   ]
  },
  {
   "cell_type": "code",
   "execution_count": 14,
   "id": "b5eafc41-ff06-4b91-a066-e980405364fb",
   "metadata": {},
   "outputs": [],
   "source": [
    "#12. Implement a program to determine if a triangle is equilateral, isosceles, or scalene."
   ]
  },
  {
   "cell_type": "code",
   "execution_count": 19,
   "id": "15dff57b-5bdb-4a45-a82e-558f658c146a",
   "metadata": {},
   "outputs": [
    {
     "name": "stdin",
     "output_type": "stream",
     "text": [
      "Enter A side: 8\n",
      "Enter B side: 8\n",
      "Enter C side: 8\n"
     ]
    },
    {
     "name": "stdout",
     "output_type": "stream",
     "text": [
      "Equilateral\n"
     ]
    }
   ],
   "source": [
    "a=int(input(\"Enter A side:\"))\n",
    "b=int(input(\"Enter B side:\"))\n",
    "c=int(input(\"Enter C side:\"))\n",
    "if a==b and b==c:\n",
    "    print(\"Equilateral\")\n",
    "elif a==b or a==c or b==c:\n",
    "    print(\"Isosceles\")\n",
    "else:\n",
    "    print(\"Scalene\")"
   ]
  },
  {
   "cell_type": "code",
   "execution_count": 20,
   "id": "130de498-6cdb-4432-b935-be9c47203f49",
   "metadata": {},
   "outputs": [],
   "source": [
    "#13. Develop a program that checks if a year is a leap year and also if it is a century year."
   ]
  },
  {
   "cell_type": "code",
   "execution_count": 29,
   "id": "04e56db3-6194-4f08-935e-5ef863a3a0bf",
   "metadata": {},
   "outputs": [
    {
     "name": "stdin",
     "output_type": "stream",
     "text": [
      "Enter year 2023\n"
     ]
    },
    {
     "name": "stdout",
     "output_type": "stream",
     "text": [
      "Just a year\n"
     ]
    }
   ],
   "source": [
    "year=int(input(\"Enter year\"))\n",
    "if year%4==0:\n",
    "    print(\"Leap year\")\n",
    "elif year%400==0:\n",
    "    print(\"Century year\")\n",
    "else:\n",
    "    print(\"Just a year\")"
   ]
  },
  {
   "cell_type": "code",
   "execution_count": 30,
   "id": "2f377631-4f0a-4410-88e4-b2bffba01aaf",
   "metadata": {},
   "outputs": [],
   "source": [
    "#14. Write a Python script to determine if a number is positive, negative, or zero."
   ]
  },
  {
   "cell_type": "code",
   "execution_count": 4,
   "id": "3f5d32fb-a70c-4289-919e-eb7204a29b8d",
   "metadata": {},
   "outputs": [
    {
     "name": "stdin",
     "output_type": "stream",
     "text": [
      "Enter a no: -5\n"
     ]
    },
    {
     "name": "stdout",
     "output_type": "stream",
     "text": [
      "No is negative\n"
     ]
    }
   ],
   "source": [
    "x=int(input(\"Enter a no:\"))\n",
    "if x>0:\n",
    "    print(\"No is positive\")\n",
    "elif x<0:\n",
    "    print(\"No is negative\")\n",
    "else:\n",
    "    print(\"zero\")"
   ]
  },
  {
   "cell_type": "code",
   "execution_count": 5,
   "id": "188c2fa9-3763-4d15-9660-7b749bb6bd88",
   "metadata": {},
   "outputs": [],
   "source": [
    "#15. Create a program to check if a person is a teenager (between 13 and 19 years old)."
   ]
  },
  {
   "cell_type": "code",
   "execution_count": 12,
   "id": "533538d6-73cd-4b57-9d33-db5c46286e2d",
   "metadata": {},
   "outputs": [
    {
     "name": "stdin",
     "output_type": "stream",
     "text": [
      "Enter age: 15\n"
     ]
    },
    {
     "name": "stdout",
     "output_type": "stream",
     "text": [
      "Person is teenager\n"
     ]
    }
   ],
   "source": [
    "age=int(input(\"Enter age:\"))\n",
    "if 13<=age<=19:\n",
    "    print(\"Person is teenager\")\n",
    "else:\n",
    "    print(\"Person is not teenager\")"
   ]
  },
  {
   "cell_type": "code",
   "execution_count": 13,
   "id": "0d1fe7d7-0e3e-4ece-baea-de7ef655bf28",
   "metadata": {},
   "outputs": [],
   "source": [
    "#16. Develop a program that determines the type of angle based on its measure (acute, obtuse, or right)."
   ]
  },
  {
   "cell_type": "code",
   "execution_count": 18,
   "id": "89c278c0-3a86-4fee-824e-a24c5c9dda11",
   "metadata": {},
   "outputs": [
    {
     "name": "stdin",
     "output_type": "stream",
     "text": [
      "Enter the angle: 45\n"
     ]
    },
    {
     "name": "stdout",
     "output_type": "stream",
     "text": [
      "Acute angle\n"
     ]
    }
   ],
   "source": [
    "a=int(input(\"Enter the angle:\"))\n",
    "if a>90:\n",
    "    print(\"Obtuse angle\")\n",
    "elif a<90:\n",
    "    print(\"Acute angle\")\n",
    "else:\n",
    "    print(\"Right angle\")"
   ]
  },
  {
   "cell_type": "code",
   "execution_count": 19,
   "id": "e258fbcb-c8e2-4e38-b318-12ec448cdadc",
   "metadata": {},
   "outputs": [],
   "source": [
    "#17. Write a Python program to calculate the roots of a quadratic equation."
   ]
  },
  {
   "cell_type": "code",
   "execution_count": 20,
   "id": "8dca68d7-6d36-437e-96b4-8ef2ef9800d2",
   "metadata": {},
   "outputs": [],
   "source": [
    "#18. Implement a program to determine the day of the week based on a user-provided number (1 for Monday, 2for Tuesday, etc.)."
   ]
  },
  {
   "cell_type": "code",
   "execution_count": 22,
   "id": "01d5e84b-3b88-4ef1-8763-c6f4f26cd23f",
   "metadata": {},
   "outputs": [
    {
     "name": "stdin",
     "output_type": "stream",
     "text": [
      "Enter the number b/w 1to7: 1\n"
     ]
    },
    {
     "name": "stdout",
     "output_type": "stream",
     "text": [
      "Monday\n"
     ]
    }
   ],
   "source": [
    "a=int(input(\"Enter the number b/w 1to7:\"))\n",
    "if a==1:\n",
    "    print(\"Monday\")\n",
    "elif a==2:\n",
    "    print(\"Tuesday\")\n",
    "elif a==3:\n",
    "    print(\"wednesday\")\n",
    "elif a==4:\n",
    "    print(\"Thursday\")\n",
    "elif a==5:\n",
    "    print(\"Friday\")\n",
    "elif a==6:\n",
    "    print(\"Saturday\")\n",
    "elif a==7:\n",
    "    print(\"Sunday\")\n",
    "else:\n",
    "    print(\"Invalid input\")"
   ]
  },
  {
   "cell_type": "code",
   "execution_count": 23,
   "id": "3349e888-e0a0-403a-8fcd-4956e0d36585",
   "metadata": {},
   "outputs": [],
   "source": [
    "#19. Create a program that determines if a year is a leap year and also if it is evenly divisible by 400."
   ]
  },
  {
   "cell_type": "code",
   "execution_count": 25,
   "id": "f6142630-dadb-4b92-8209-6d3e3b2c5568",
   "metadata": {},
   "outputs": [
    {
     "name": "stdin",
     "output_type": "stream",
     "text": [
      "Enter a year 2024\n"
     ]
    },
    {
     "name": "stdout",
     "output_type": "stream",
     "text": [
      "2024 is a leap year\n",
      "but 2024 is not divisible by 400\n"
     ]
    }
   ],
   "source": [
    "year=int(input(\"Enter a year:\"))\n",
    "if year%4==0:\n",
    "    print(f\"{year} is a leap year\")\n",
    "    if year%400==0:\n",
    "        print(f\"{year} is also divisible by 400\")\n",
    "    else:\n",
    "        print(f\"but {year} is not divisible by 400\")\n",
    "else:\n",
    "    print(f\"{year} is not a leap year\")"
   ]
  },
  {
   "cell_type": "code",
   "execution_count": 26,
   "id": "e528357a-dda1-4808-8118-8ac09ef7d5d6",
   "metadata": {},
   "outputs": [],
   "source": [
    "#20. Develop a program that checks if a given number is prime or not using nested if-else statements."
   ]
  },
  {
   "cell_type": "code",
   "execution_count": 34,
   "id": "30f9d823-8913-4472-a71c-68cab339d925",
   "metadata": {},
   "outputs": [],
   "source": [
    "#22. Implement a program to determine the type of a triangle based on its angles."
   ]
  },
  {
   "cell_type": "code",
   "execution_count": 36,
   "id": "5648eb94-549a-458f-b7e3-7ed0dc4a7519",
   "metadata": {},
   "outputs": [
    {
     "name": "stdin",
     "output_type": "stream",
     "text": [
      "Input angle: 23\n",
      "Input angle: 65\n",
      "Input angle: 43\n"
     ]
    },
    {
     "name": "stdout",
     "output_type": "stream",
     "text": [
      "Scalene Triangle\n"
     ]
    }
   ],
   "source": [
    "a=int(input(\"Input angle:\"))\n",
    "b=int(input(\"Input angle:\"))\n",
    "c=int(input(\"Input angle:\"))\n",
    "if a==b==c:\n",
    "    print(\"Equilateral Triangle\")\n",
    "elif a==b!=c:\n",
    "    print(\"Isoscalles Triangle\")\n",
    "elif a==90 or b==90 or c==90:\n",
    "    print(\"Right angled triangle\")\n",
    "else:\n",
    "    print(\"Scalene Triangle\")"
   ]
  },
  {
   "cell_type": "code",
   "execution_count": 1,
   "id": "16a0d093-336c-4e35-8e88-a7e3adbf3913",
   "metadata": {},
   "outputs": [],
   "source": [
    "#23. Develop a program to categorize a given person's BMI into underweight, normal, overweight, or obese using elif statements."
   ]
  },
  {
   "cell_type": "code",
   "execution_count": 4,
   "id": "3eb9ac2b-40d6-4eb5-84d8-c4d1ef7d4b05",
   "metadata": {},
   "outputs": [
    {
     "name": "stdin",
     "output_type": "stream",
     "text": [
      "Enter weight: 30\n"
     ]
    },
    {
     "name": "stdout",
     "output_type": "stream",
     "text": [
      "Uderweight\n"
     ]
    }
   ],
   "source": [
    "weight=int(input(\"Enter weight:\"))\n",
    "if 30<=weight<=40:\n",
    "    print(\"Uderweight\")\n",
    "elif 40<=weight<=60:\n",
    "    print(\"Normal\")\n",
    "elif 60<=weight<=80:\n",
    "    print(\"Overweight\")\n",
    "elif weight>=80:\n",
    "    print(\"Obese\")"
   ]
  },
  {
   "cell_type": "code",
   "execution_count": 5,
   "id": "55c0e26d-d7f2-47c9-9850-a5f10ee3cf8a",
   "metadata": {},
   "outputs": [],
   "source": [
    "#24. Create a program that determines whether a given number is positive, negative, or zero using elif statements."
   ]
  },
  {
   "cell_type": "code",
   "execution_count": 6,
   "id": "46d74c1c-b156-47d5-8589-cf6ce5e45a02",
   "metadata": {},
   "outputs": [
    {
     "name": "stdin",
     "output_type": "stream",
     "text": [
      "Enter a no: 7\n"
     ]
    },
    {
     "name": "stdout",
     "output_type": "stream",
     "text": [
      "No is positive\n"
     ]
    }
   ],
   "source": [
    "x=int(input(\"Enter a no:\"))\n",
    "if x>0:\n",
    "    print(\"No is positive\")\n",
    "elif x<0:\n",
    "    print(\"No is negative\")\n",
    "else:\n",
    "    print(\"zero\")"
   ]
  },
  {
   "cell_type": "code",
   "execution_count": 7,
   "id": "42cc30c4-7f29-425f-9168-2390cd33dc70",
   "metadata": {},
   "outputs": [],
   "source": [
    "#25. Write a Python script to determine the type of a character (uppercase, lowercase, or special) using elif statements."
   ]
  },
  {
   "cell_type": "code",
   "execution_count": 15,
   "id": "a79362aa-dbda-40c7-a135-1ef89c1cfdb5",
   "metadata": {},
   "outputs": [
    {
     "name": "stdin",
     "output_type": "stream",
     "text": [
      "Enter character: &\n"
     ]
    },
    {
     "name": "stdout",
     "output_type": "stream",
     "text": [
      "Special character\n"
     ]
    }
   ],
   "source": [
    "x=input(\"Enter character:\") \n",
    "\n",
    "if x.isalnum():\n",
    "    if x==x.lower():\n",
    "        print(\"Lowercase character\")\n",
    "    elif x==x.upper():\n",
    "        print(\"Upper case character\")\n",
    "        \n",
    "else:\n",
    "    print(\"Special character\")"
   ]
  },
  {
   "cell_type": "code",
   "execution_count": 33,
   "id": "96fb3c66-b630-41e5-a6ad-7e5d6718a162",
   "metadata": {},
   "outputs": [],
   "source": [
    "#26. Implement a program to calculate the discounted price based on different purchase amounts using elif statements."
   ]
  },
  {
   "cell_type": "code",
   "execution_count": 16,
   "id": "7f03a558-a313-458c-ac42-5265e889fecc",
   "metadata": {},
   "outputs": [],
   "source": [
    "#27. Develop a program to calculate the electricity bill based on different consumption slabs using elif statements."
   ]
  },
  {
   "cell_type": "code",
   "execution_count": 2,
   "id": "18d913d9-2785-4e00-9698-71209b2af608",
   "metadata": {},
   "outputs": [
    {
     "name": "stdin",
     "output_type": "stream",
     "text": [
      "Enter unit: 5\n"
     ]
    },
    {
     "name": "stdout",
     "output_type": "stream",
     "text": [
      "500\n"
     ]
    }
   ],
   "source": [
    "unit=int(input(\"Enter unit:\"))\n",
    "if unit==0:\n",
    "    print(\"0\")\n",
    "elif 0<unit<=5:\n",
    "    print(\"500\")\n",
    "elif 5<=unit<=10:\n",
    "    print(\"1000\")\n",
    "elif 10<=unit<=15:\n",
    "    print(\"1000\")\n",
    "else:\n",
    "    print(\"Your amount is going high\")"
   ]
  },
  {
   "cell_type": "code",
   "execution_count": 3,
   "id": "e9e6f1f6-c5f9-45cc-877b-762330477716",
   "metadata": {},
   "outputs": [],
   "source": [
    "#28. Create a program to determine the type of quadrilateral based on its angles and sides using elif statements."
   ]
  },
  {
   "cell_type": "code",
   "execution_count": 10,
   "id": "a1ce36c2-80bf-4366-b9a1-f6d687ba53a8",
   "metadata": {},
   "outputs": [
    {
     "name": "stdin",
     "output_type": "stream",
     "text": [
      "Enter side a: 2\n",
      "Enter side b: 2\n",
      "Enter side c: 2\n",
      "Enter side d: 2\n",
      "Enter angle x: 45\n",
      "Enter angle y: 60\n",
      "Enter angle z: 45\n",
      "Enter angle o: 60\n"
     ]
    },
    {
     "name": "stdout",
     "output_type": "stream",
     "text": [
      "Rohombus\n"
     ]
    }
   ],
   "source": [
    "a=int(input(\"Enter side a:\"))\n",
    "b=int(input(\"Enter side b:\"))\n",
    "c=int(input(\"Enter side c:\"))\n",
    "d=int(input(\"Enter side d:\"))\n",
    "x=int(input(\"Enter angle x:\"))\n",
    "y=int(input(\"Enter angle y:\"))\n",
    "z=int(input(\"Enter angle z:\"))\n",
    "o=int(input(\"Enter angle o:\"))\n",
    "if a==b==c==d and x==y==z==o==90:\n",
    "    print(\"Square\")\n",
    "elif a==c and b==d and x==y==z==o==90:\n",
    "    print(\"Rectangle\")\n",
    "elif a==b==c==d and x==z and y==o:\n",
    "    print(\"Rohombus\")\n",
    "elif a==d and b==c and x==z or y==o:\n",
    "    print(\"Kite\")\n",
    "else:\n",
    "    print(\"Other quadrilateral\")"
   ]
  },
  {
   "cell_type": "code",
   "execution_count": 11,
   "id": "b0b52c5b-aa77-447b-a064-4bd2903095f0",
   "metadata": {},
   "outputs": [],
   "source": [
    "#29. Write a Python script to determine the season based on a user-provided month using elif statements."
   ]
  },
  {
   "cell_type": "code",
   "execution_count": 14,
   "id": "4b8d1ade-c5a5-4ef4-82df-4ad839baa5ef",
   "metadata": {},
   "outputs": [
    {
     "name": "stdin",
     "output_type": "stream",
     "text": [
      "Enter month b/w (1-12): 6\n"
     ]
    },
    {
     "name": "stdout",
     "output_type": "stream",
     "text": [
      "Summer\n"
     ]
    }
   ],
   "source": [
    "month=int(input(\"Enter month b/w (1-12):\"))\n",
    "if 3<=month<=10:\n",
    "    print(\"Summer\")\n",
    "elif 10<=month<=12:\n",
    "    print(\"Winter\")\n",
    "elif 1<=month<=2:\n",
    "    print(\"Winter\")\n",
    "else:\n",
    "    print(\"invalid input\")"
   ]
  },
  {
   "cell_type": "code",
   "execution_count": 15,
   "id": "5a8a9a2b-badf-4cdd-ad0a-7bd9d202eea6",
   "metadata": {},
   "outputs": [],
   "source": [
    "#30. Implement a program to determine the type of a year (leap or common) and month (30 or 31 days) using elif statements."
   ]
  },
  {
   "cell_type": "code",
   "execution_count": 22,
   "id": "018b07dc-7610-43b5-8a39-5554bb438f44",
   "metadata": {},
   "outputs": [
    {
     "name": "stdin",
     "output_type": "stream",
     "text": [
      "Enter year: 2024\n",
      "Enter month(1-12): 2\n"
     ]
    },
    {
     "name": "stdout",
     "output_type": "stream",
     "text": [
      "2024 is a leap year\n",
      "2 month have 29 days\n"
     ]
    }
   ],
   "source": [
    "year=int(input(\"Enter year:\"))\n",
    "month=int(input(\"Enter month(1-12):\"))\n",
    "if year%4==0:\n",
    "    if month in range(1,13):\n",
    "        print(f\"{year} is a leap year\")\n",
    "    if month in range(1,13):\n",
    "        if month==2:\n",
    "            print(f\"{month} month have 29 days\")\n",
    "        elif month==1 or month==3 or month==5 or month==7 or month==8 or month==10 or month==12:\n",
    "            print(f\"{month} have 31 days\")\n",
    "        else:\n",
    "            print(f\"{month} have 30 days\")\n",
    "    else:\n",
    "        print(\"Invalid input for month\")\n",
    "else:\n",
    "    print(f\"{year} is not a leap year\")\n",
    "    if month in range(1,13):\n",
    "        if month==1 or month==3 or month==5 or month==7 or month==8 or month==10 or month==12:\n",
    "            print(f\"{month} have 31 days\")\n",
    "        elif month==2:\n",
    "            print(f\"{month} have 28 days\")\n",
    "        else:\n",
    "            print(f\"{month} have 30 days\")\n",
    "    else:\n",
    "        print(\"Invalid input for month\")"
   ]
  },
  {
   "cell_type": "code",
   "execution_count": 23,
   "id": "d456c359-373c-49af-baf0-c7cc4646442e",
   "metadata": {},
   "outputs": [],
   "source": [
    "#BasicLevel"
   ]
  },
  {
   "cell_type": "code",
   "execution_count": 24,
   "id": "05f99525-9e55-4a92-8890-0097a88456af",
   "metadata": {},
   "outputs": [],
   "source": [
    "#1. Write a Python program that checks if a given number is positive, negative, or zero."
   ]
  },
  {
   "cell_type": "code",
   "execution_count": 28,
   "id": "90fe57ba-ff63-4161-910f-431a678a517d",
   "metadata": {},
   "outputs": [
    {
     "name": "stdin",
     "output_type": "stream",
     "text": [
      "Enter no: -6\n"
     ]
    },
    {
     "name": "stdout",
     "output_type": "stream",
     "text": [
      "-6 is negative\n"
     ]
    }
   ],
   "source": [
    "x=int(input(\"Enter no:\"))\n",
    "if x<0:\n",
    "    print(f\"{x} is negative\")\n",
    "elif x>0:\n",
    "    print(f\"{x} is positive\")\n",
    "else:\n",
    "    print(f\"{x} is neutral\")"
   ]
  },
  {
   "cell_type": "code",
   "execution_count": 29,
   "id": "6f1ee9bc-49db-4cb8-89f9-79e4751544ad",
   "metadata": {},
   "outputs": [],
   "source": [
    "#2. Create a program to determine if a person is eligible to vote based on their age."
   ]
  },
  {
   "cell_type": "code",
   "execution_count": 30,
   "id": "eb25629e-e19c-4761-94eb-b1bb956f5633",
   "metadata": {},
   "outputs": [
    {
     "name": "stdin",
     "output_type": "stream",
     "text": [
      "Enter your age: 18\n"
     ]
    },
    {
     "name": "stdout",
     "output_type": "stream",
     "text": [
      "You can vote\n"
     ]
    }
   ],
   "source": [
    "age=int(input(\"Enter your age:\"))\n",
    "if age>=18:\n",
    "    print(\"You can vote\")\n",
    "else:\n",
    "    print(\"You can not vote\")"
   ]
  },
  {
   "cell_type": "code",
   "execution_count": 31,
   "id": "d0afcbc7-f491-4a02-a7db-866ad1095b2a",
   "metadata": {},
   "outputs": [],
   "source": [
    "#3. Write a program to find the maximum of two given numbers using conditional statements."
   ]
  },
  {
   "cell_type": "code",
   "execution_count": 36,
   "id": "2a632b0d-3f5c-41ca-85a2-b296ffaee583",
   "metadata": {},
   "outputs": [
    {
     "name": "stdin",
     "output_type": "stream",
     "text": [
      "Enter x: 3\n",
      "Enter y: 4\n"
     ]
    },
    {
     "name": "stdout",
     "output_type": "stream",
     "text": [
      "4 is maximum\n"
     ]
    }
   ],
   "source": [
    "x=int(input(\"Enter x:\"))\n",
    "y=int(input(\"Enter y:\"))\n",
    "if x>y:\n",
    "    print(f\"{x} is maximum\")\n",
    "elif x<y:\n",
    "    print(f\"{y} is maximum\")\n",
    "elif x==y:\n",
    "    print(\"x is equal to y\")\n",
    "else:\n",
    "    print(\"Invalid input\")"
   ]
  },
  {
   "cell_type": "code",
   "execution_count": 1,
   "id": "d8f2ddaa-d68e-4fca-80c6-a326edf6fcd2",
   "metadata": {},
   "outputs": [],
   "source": [
    "#8. Develop a program that checks whether a character is a vowel or a consonant."
   ]
  },
  {
   "cell_type": "code",
   "execution_count": 5,
   "id": "945ee7ed-1c06-4fe6-a649-8ff3d137b58b",
   "metadata": {},
   "outputs": [
    {
     "name": "stdin",
     "output_type": "stream",
     "text": [
      "Enter a character: S\n"
     ]
    },
    {
     "name": "stdout",
     "output_type": "stream",
     "text": [
      "It is a consonant\n"
     ]
    }
   ],
   "source": [
    "vowel=[\"a\",\"e\",\"i\",\"o\",\"u\"]\n",
    "if input(\"Enter a character:\").lower() in vowel:\n",
    "    print(\"It is a vowel\")\n",
    "else:\n",
    "    print(\"It is a consonant\")"
   ]
  },
  {
   "cell_type": "code",
   "execution_count": 1,
   "id": "358601a5-c918-46aa-bba9-eccb3c5948ff",
   "metadata": {},
   "outputs": [],
   "source": [
    "#13. Develop a program that calculates the factorial of a given number using recursion."
   ]
  },
  {
   "cell_type": "code",
   "execution_count": 1,
   "id": "02857a9a-4c4d-49ec-8e10-4c5868b908f2",
   "metadata": {},
   "outputs": [],
   "source": [
    "def recursion(n):\n",
    "    if n==0:\n",
    "        return 1\n",
    "    else:\n",
    "        return n*recursion(n-1)"
   ]
  },
  {
   "cell_type": "code",
   "execution_count": 2,
   "id": "cf208733-330d-4671-8b12-c74f2c6a12c8",
   "metadata": {},
   "outputs": [
    {
     "data": {
      "text/plain": [
       "24"
      ]
     },
     "execution_count": 2,
     "metadata": {},
     "output_type": "execute_result"
    }
   ],
   "source": [
    "recursion(4)"
   ]
  },
  {
   "cell_type": "code",
   "execution_count": 7,
   "id": "672a6f90-77e1-4ff0-8f95-f1cc0131b760",
   "metadata": {},
   "outputs": [],
   "source": [
    "#16. Build a program that checks if a given string is a palindrome or not."
   ]
  },
  {
   "cell_type": "code",
   "execution_count": 9,
   "id": "69d96eef-7cf4-49f2-a3ca-b89ad6742947",
   "metadata": {},
   "outputs": [
    {
     "name": "stdin",
     "output_type": "stream",
     "text": [
      "Enter the string: Racecar\n"
     ]
    },
    {
     "name": "stdout",
     "output_type": "stream",
     "text": [
      "String is palindrome\n"
     ]
    }
   ],
   "source": [
    "a=input(\"Enter the string:\").lower()\n",
    "if a[::]==a[::-1]:\n",
    "    print(\"String is palindrome\")\n",
    "else:\n",
    "    print(\"String is not a palindrome\")"
   ]
  },
  {
   "cell_type": "code",
   "execution_count": 10,
   "id": "eec7aaa3-94cb-4f0e-b370-5467bb2c40cc",
   "metadata": {},
   "outputs": [],
   "source": [
    "#17. Write a program that calculates the average of a list of numbers, excluding the smallest and largest values."
   ]
  },
  {
   "cell_type": "code",
   "execution_count": 18,
   "id": "b159e571-4712-442e-b114-5e71f574889c",
   "metadata": {},
   "outputs": [
    {
     "name": "stdout",
     "output_type": "stream",
     "text": [
      "[2, 3, 4, 5, 6]\n",
      "4.0\n"
     ]
    }
   ],
   "source": [
    "l=[1,2,3,4,5,6,7]\n",
    "l.remove(max(l))\n",
    "l.remove(min(l))\n",
    "print(l)\n",
    "a=0\n",
    "for i in l:\n",
    "    a=a+i\n",
    "    avg=a/len(l)\n",
    "print(avg)"
   ]
  },
  {
   "cell_type": "code",
   "execution_count": 1,
   "id": "f66b55ec-1028-4e19-ac22-c9acf56f3b8c",
   "metadata": {},
   "outputs": [],
   "source": [
    "#19. Create a program that simulates a basic calculator for addition, subtraction, multiplication, and division."
   ]
  },
  {
   "cell_type": "code",
   "execution_count": 4,
   "id": "d48a1580-7067-4e30-bd9c-0039ca43b572",
   "metadata": {},
   "outputs": [
    {
     "name": "stdin",
     "output_type": "stream",
     "text": [
      "Enter the no: 7\n",
      "Enter the no: 4\n",
      "Enter the operator: *\n"
     ]
    },
    {
     "name": "stdout",
     "output_type": "stream",
     "text": [
      "28\n"
     ]
    }
   ],
   "source": [
    "a=int(input(\"Enter the no:\"))\n",
    "b=int(input(\"Enter the no:\"))\n",
    "c=input(\"Enter the operator:\")\n",
    "if c==\"+\":\n",
    "    print(a+b)\n",
    "elif c==\"-\":\n",
    "    print(a-b)\n",
    "elif c==\"*\":\n",
    "    print(a*b)\n",
    "elif c==\"/\":\n",
    "    print(a/b)\n",
    "else:\n",
    "    print(\"invalid input\")"
   ]
  },
  {
   "cell_type": "code",
   "execution_count": 7,
   "id": "48eea3b6-a7cf-4a8e-8afd-2da343c98ed3",
   "metadata": {},
   "outputs": [],
   "source": [
    "#AdvanceLevel"
   ]
  },
  {
   "cell_type": "code",
   "execution_count": 10,
   "id": "5876e6f2-49ed-4f2a-9fc2-6e2c115cdc47",
   "metadata": {},
   "outputs": [],
   "source": [
    "#22. Write a program that simulates a rock-paper-scissors game against the computer."
   ]
  },
  {
   "cell_type": "code",
   "execution_count": 30,
   "id": "d5502d0d-af6e-479c-b874-c20b5265bca0",
   "metadata": {},
   "outputs": [
    {
     "name": "stdin",
     "output_type": "stream",
     "text": [
      "Enter: paper\n"
     ]
    },
    {
     "name": "stdout",
     "output_type": "stream",
     "text": [
      "rock\n"
     ]
    }
   ],
   "source": [
    "import random\n",
    "a=input(\"Enter:\").lower()\n",
    "l=[\"rock\",\"paper\",\"scissor\"]\n",
    "print(random.choice(l))"
   ]
  },
  {
   "cell_type": "code",
   "execution_count": 70,
   "id": "c1c7503a-edc8-4782-ac31-d968a64875a1",
   "metadata": {},
   "outputs": [],
   "source": [
    "#23. Develop a program that generates a random password based on user preferences (length, complexity)."
   ]
  },
  {
   "cell_type": "code",
   "execution_count": 2,
   "id": "71d62174-f800-4f65-a278-162c8ba63fc3",
   "metadata": {},
   "outputs": [],
   "source": []
  }
 ],
 "metadata": {
  "kernelspec": {
   "display_name": "Python 3 (ipykernel)",
   "language": "python",
   "name": "python3"
  },
  "language_info": {
   "codemirror_mode": {
    "name": "ipython",
    "version": 3
   },
   "file_extension": ".py",
   "mimetype": "text/x-python",
   "name": "python",
   "nbconvert_exporter": "python",
   "pygments_lexer": "ipython3",
   "version": "3.10.8"
  }
 },
 "nbformat": 4,
 "nbformat_minor": 5
}
